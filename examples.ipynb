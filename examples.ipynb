{
 "cells": [
  {
   "cell_type": "markdown",
   "metadata": {},
   "source": [
    "Примеры для обращения по API"
   ]
  },
  {
   "cell_type": "code",
   "execution_count": 1,
   "metadata": {},
   "outputs": [],
   "source": [
    "import requests\n",
    "import json\n",
    "\n",
    "BASE_URL = \"http://127.0.0.1:8000\""
   ]
  },
  {
   "cell_type": "code",
   "execution_count": 2,
   "metadata": {},
   "outputs": [],
   "source": [
    "# Тест поиска чанков\n",
    "def test_find_chunks():\n",
    "    url = f\"{BASE_URL}/find_chunks/\"\n",
    "    \n",
    "    # Примеры вопросов\n",
    "    questions = [\n",
    "        {\"question_text\": \"Как оформить возврат товара?\"},\n",
    "        {\"question_text\": \"Какие способы доставки доступны?\"},\n",
    "        {\"question_text\": \"Где посмотреть статус заказа?\"}\n",
    "    ]\n",
    "    \n",
    "    for data in questions:\n",
    "        response = requests.post(url, json=data)\n",
    "        \n",
    "        if response.status_code == 200:\n",
    "            result = response.json()\n",
    "            print(f\"\\nВопрос: {data['question_text']}\")\n",
    "            print(\"\\nНайденные чанки:\")\n",
    "            for i, chunk in enumerate(result['chunks'], 1):\n",
    "                print(f\"{i}. {chunk}\")\n",
    "            print(\"\\nМетаданные:\", json.dumps(result['metadata'], indent=2, ensure_ascii=False))\n",
    "        else:\n",
    "            print(f\"\\nОшибка {response.status_code}:\", response.json())"
   ]
  },
  {
   "cell_type": "code",
   "execution_count": 3,
   "metadata": {},
   "outputs": [],
   "source": [
    "# Тест оценки модели\n",
    "def test_evaluate():\n",
    "    url = f\"{BASE_URL}/evaluate/\"\n",
    "    \n",
    "    test_data = [\n",
    "        {\n",
    "            \"question\": \"Как отследить доставку заказа?\",\n",
    "            \"true_chunk\": \"Для отслеживания заказа войдите в личный кабинет и перейдите в раздел 'Мои заказы'. Там вы найдете трек-номер и текущий статус доставки.\"\n",
    "        },\n",
    "        {\n",
    "            \"question\": \"Какие условия бесплатной доставки?\",\n",
    "            \"true_chunk\": \"Бесплатная доставка доступна при заказе от 3000 рублей. Действует для всех регионов России при доставке в пункты выдачи.\"\n",
    "        },\n",
    "        {\n",
    "            \"question\": \"Как оформить возврат товара?\",\n",
    "            \"true_chunk\": \"Чтобы оформить возврат, заполните заявление в личном кабинете, упакуйте товар в оригинальную упаковку и отправьте его через любое отделение почты или пункт выдачи.\"\n",
    "        }\n",
    "    ]\n",
    "    \n",
    "    response = requests.post(url, json=test_data)\n",
    "    \n",
    "    if response.status_code == 200:\n",
    "        result = response.json()\n",
    "        print(\"\\nРезультаты оценки:\")\n",
    "        print(\"\\nМетрики:\")\n",
    "        for metric, value in result['metrics'].items():\n",
    "            print(f\"{metric}: {value:.3f}\")\n",
    "        print(f\"\\nВсего примеров: {result['total_examples']}\")\n",
    "        print(\"\\nПравильные предсказания:\", result['correct_predictions'])\n",
    "    else:\n",
    "        print(f\"\\nОшибка {response.status_code}:\", response.json())"
   ]
  },
  {
   "cell_type": "code",
   "execution_count": null,
   "metadata": {},
   "outputs": [],
   "source": [
    "# Запуск тестов\n",
    "print(\"=== Тест поиска чанков ===\")\n",
    "test_find_chunks()"
   ]
  },
  {
   "cell_type": "code",
   "execution_count": null,
   "metadata": {},
   "outputs": [],
   "source": [
    "print(\"\\n=== Тест оценки модели ===\")\n",
    "test_evaluate()"
   ]
  },
  {
   "cell_type": "code",
   "execution_count": null,
   "metadata": {},
   "outputs": [],
   "source": []
  }
 ],
 "metadata": {
  "language_info": {
   "name": "python"
  }
 },
 "nbformat": 4,
 "nbformat_minor": 2
}
